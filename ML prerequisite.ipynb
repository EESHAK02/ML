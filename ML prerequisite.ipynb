{
 "cells": [
  {
   "cell_type": "markdown",
   "id": "5d3138bc",
   "metadata": {},
   "source": [
    "# Q1"
   ]
  },
  {
   "cell_type": "markdown",
   "id": "72754dc4",
   "metadata": {},
   "source": [
    "Multiplications required are n*k*m : We take row wise multiplications such that every row in the final matrix has n rows and m columns with k multiplications in a single element (row and column specified) thus making the total number of multiplications n*m*k\n",
    "Additions required are m^n : Every element(row and column specified) in the final matrix consists of n additions and there are n such rows with m elements each - finally resulting in m^n additions"
   ]
  },
  {
   "cell_type": "markdown",
   "id": "532b3561",
   "metadata": {},
   "source": [
    "# Q2"
   ]
  },
  {
   "cell_type": "code",
   "execution_count": 65,
   "id": "be49af55",
   "metadata": {},
   "outputs": [
    {
     "name": "stdout",
     "output_type": "stream",
     "text": [
      "23.9 µs ± 668 ns per loop (mean ± std. dev. of 7 runs, 10000 loops each)\n"
     ]
    }
   ],
   "source": [
    "%%timeit\n",
    "\n",
    "M1 = [[10, 20, 30],\n",
    "     [40, 50, 60]]\n",
    "M2 = [[1, 2, 3, 4],\n",
    "     [5, 6, 7, 8],\n",
    "     [9, 10, 11, 12]]\n",
    "Ans = [[0, 0, 0, 0],\n",
    "      [0, 0, 0, 0]]\n",
    "\n",
    "for i in range(len(M1)):\n",
    "    for j in range(len(M2[0])):\n",
    "        for k in range(len(M2)):\n",
    "            Ans[i][j] = Ans[i][j] + ( M1[i][k] * M2[k][j] )\n",
    "            \n",
    "#for l in Ans:\n",
    "#    print (l)           "
   ]
  },
  {
   "cell_type": "code",
   "execution_count": 66,
   "id": "1e48a76c",
   "metadata": {},
   "outputs": [
    {
     "name": "stdout",
     "output_type": "stream",
     "text": [
      "31 µs ± 637 ns per loop (mean ± std. dev. of 7 runs, 10000 loops each)\n"
     ]
    }
   ],
   "source": [
    "%%timeit\n",
    "\n",
    "import numpy as np\n",
    "\n",
    "M1 = [[10, 20, 30],\n",
    "     [40, 50, 60]]\n",
    "M2 = [[1, 2, 3, 4],\n",
    "     [5, 6, 7, 8],\n",
    "     [9, 10, 11, 12]]\n",
    "Ans = [[0, 0, 0, 0],\n",
    "      [0, 0, 0, 0]]\n",
    "\n",
    "Ans = np.dot(M1,M2)\n",
    "\n",
    "#for i in Ans:\n",
    "#    print (i)"
   ]
  },
  {
   "cell_type": "markdown",
   "id": "94b46831",
   "metadata": {},
   "source": [
    "The time taken for lists of lists method and numpy method is seen above. From the above data we can say that, the numpy approach is faster as compared to the list of lists approach. The following may be the reasons for the same:\n",
    "\n",
    "For lists, the code consists of multiple loops before getting to the loops and thus the time complexity is more compared to the numpy method. \n",
    "Since Numpy stores data in a concise way and thus, it works faster compared to the Python lists.\n",
    "Numpy can separate a single task in such a way that they can process parallely, making it work faster.\n",
    "Within the Numpy package, the operations make use of codes in C,C++ which require considerably lesser time for execution."
   ]
  },
  {
   "cell_type": "markdown",
   "id": "c690fae9",
   "metadata": {},
   "source": [
    "# Q3"
   ]
  },
  {
   "cell_type": "code",
   "execution_count": 72,
   "id": "832e57f6",
   "metadata": {},
   "outputs": [
    {
     "name": "stdout",
     "output_type": "stream",
     "text": [
      "9\n"
     ]
    }
   ],
   "source": [
    "# Traversing through the array to sort an then even-odd condition for median\n",
    "arr = [9,5,18,8,2,20,15]\n",
    "l = len(arr)\n",
    "\n",
    "for i in range(l):\n",
    "    smallest = i\n",
    "    for j in range(i+1,l):\n",
    "        if arr[smallest] > arr[j]:\n",
    "            smallest = j\n",
    "            \n",
    "# Get the smallest ele at the start            \n",
    "    arr[i], arr[smallest] = arr[smallest], arr[i] \n",
    "\n",
    "# For array with odd length: index : (n-1)//2\n",
    "if (l%2==1):\n",
    "    print (arr[(l-1)//2])\n",
    "\n",
    "# For array with even length: indices : (n-1)//2 and n//2\n",
    "else:\n",
    "    print ((arr[(l-1)//2] + arr[l//2])/2)\n",
    "    \n",
    "\n",
    "# time complexity- order l^2 or N^2        "
   ]
  },
  {
   "cell_type": "code",
   "execution_count": 80,
   "id": "e17670f9",
   "metadata": {},
   "outputs": [
    {
     "name": "stdout",
     "output_type": "stream",
     "text": [
      "Wall time: 0 ns\n"
     ]
    },
    {
     "data": {
      "text/plain": [
       "9"
      ]
     },
     "execution_count": 80,
     "metadata": {},
     "output_type": "execute_result"
    }
   ],
   "source": [
    "%%time\n",
    "# Using the sorted command which sorts the array in n(log(n)) order - better approach than previous method\n",
    "\n",
    "def median(a):\n",
    "    a = sorted(a)\n",
    "    l = len(a)\n",
    "    if l % 2 == 1:\n",
    "        return a[(l-1)//2]\n",
    "    else:\n",
    "        return (a[(l-1)//2] + a[l//2]) / 2\n",
    "\n",
    "arr = [9,5,18,8,2,20,15]\n",
    "(median(arr))\n",
    "\n",
    "#The overall time complexity of this code is O(nlog(n)) as the sorted function is O(nlog n).       "
   ]
  },
  {
   "cell_type": "code",
   "execution_count": 74,
   "id": "41f621a3",
   "metadata": {},
   "outputs": [
    {
     "name": "stdout",
     "output_type": "stream",
     "text": [
      "Wall time: 31.3 ms\n",
      "Wall time: 31.3 ms\n"
     ]
    },
    {
     "data": {
      "text/plain": [
       "9.0"
      ]
     },
     "execution_count": 74,
     "metadata": {},
     "output_type": "execute_result"
    }
   ],
   "source": [
    "%%time\n",
    "# Using NumPy \n",
    "\n",
    "import numpy\n",
    "arr = [9,5,18,8,2,20,15]\n",
    "%time (numpy.median(arr))"
   ]
  },
  {
   "cell_type": "markdown",
   "id": "91bcb679",
   "metadata": {},
   "source": [
    "# Q4"
   ]
  },
  {
   "cell_type": "markdown",
   "id": "d677ab02",
   "metadata": {},
   "source": [
    "The gradient of a function can be found out using partial derivatives of the function with respect to the variables. It is in the form of a vector. The gradient for the given function comes out to be as follows:\n",
    "2xy + (y^3)cos(x) , (x^2) + 3(y^2)sin(x)\n",
    "where the first part is the derivative wrt x, and the second is the derivative with respect to y.\n",
    "The same can be written in a vector form with i,j."
   ]
  },
  {
   "cell_type": "markdown",
   "id": "9b524337",
   "metadata": {},
   "source": [
    "# Q5"
   ]
  },
  {
   "cell_type": "code",
   "execution_count": 61,
   "id": "361ac726",
   "metadata": {},
   "outputs": [
    {
     "ename": "ModuleNotFoundError",
     "evalue": "jax requires jaxlib to be installed. See https://github.com/google/jax#installation for installation instructions.",
     "output_type": "error",
     "traceback": [
      "\u001b[1;31m---------------------------------------------------------------------------\u001b[0m",
      "\u001b[1;31mModuleNotFoundError\u001b[0m                       Traceback (most recent call last)",
      "\u001b[1;32mc:\\users\\eesha\\appdata\\local\\programs\\python\\python37\\lib\\site-packages\\jax\\_src\\lib\\__init__.py\u001b[0m in \u001b[0;36m<module>\u001b[1;34m\u001b[0m\n\u001b[0;32m     24\u001b[0m \u001b[1;32mtry\u001b[0m\u001b[1;33m:\u001b[0m\u001b[1;33m\u001b[0m\u001b[1;33m\u001b[0m\u001b[0m\n\u001b[1;32m---> 25\u001b[1;33m   \u001b[1;32mimport\u001b[0m \u001b[0mjaxlib\u001b[0m \u001b[1;32mas\u001b[0m \u001b[0mjaxlib\u001b[0m\u001b[1;33m\u001b[0m\u001b[1;33m\u001b[0m\u001b[0m\n\u001b[0m\u001b[0;32m     26\u001b[0m \u001b[1;32mexcept\u001b[0m \u001b[0mModuleNotFoundError\u001b[0m \u001b[1;32mas\u001b[0m \u001b[0merr\u001b[0m\u001b[1;33m:\u001b[0m\u001b[1;33m\u001b[0m\u001b[1;33m\u001b[0m\u001b[0m\n",
      "\u001b[1;31mModuleNotFoundError\u001b[0m: No module named 'jaxlib'",
      "\nThe above exception was the direct cause of the following exception:\n",
      "\u001b[1;31mModuleNotFoundError\u001b[0m                       Traceback (most recent call last)",
      "\u001b[1;32m~\\AppData\\Local\\Temp\\ipykernel_14368\\2899856336.py\u001b[0m in \u001b[0;36m<module>\u001b[1;34m\u001b[0m\n\u001b[1;32m----> 1\u001b[1;33m \u001b[1;32mimport\u001b[0m \u001b[0mjax\u001b[0m\u001b[1;33m.\u001b[0m\u001b[0mnumpy\u001b[0m \u001b[1;32mas\u001b[0m \u001b[0mjnp\u001b[0m\u001b[1;33m\u001b[0m\u001b[1;33m\u001b[0m\u001b[0m\n\u001b[0m\u001b[0;32m      2\u001b[0m \u001b[1;32mfrom\u001b[0m \u001b[0mjax\u001b[0m \u001b[1;32mimport\u001b[0m \u001b[0mgrad\u001b[0m\u001b[1;33m\u001b[0m\u001b[1;33m\u001b[0m\u001b[0m\n\u001b[0;32m      3\u001b[0m \u001b[1;33m\u001b[0m\u001b[0m\n\u001b[0;32m      4\u001b[0m \u001b[1;32mdef\u001b[0m \u001b[0mfunc\u001b[0m\u001b[1;33m(\u001b[0m\u001b[0mx\u001b[0m\u001b[1;33m,\u001b[0m\u001b[0my\u001b[0m\u001b[1;33m)\u001b[0m\u001b[1;33m:\u001b[0m\u001b[1;33m\u001b[0m\u001b[1;33m\u001b[0m\u001b[0m\n\u001b[0;32m      5\u001b[0m     \u001b[1;32mreturn\u001b[0m \u001b[1;33m(\u001b[0m\u001b[1;33m(\u001b[0m\u001b[0mx\u001b[0m\u001b[1;33m**\u001b[0m\u001b[1;36m2\u001b[0m\u001b[1;33m)\u001b[0m\u001b[1;33m*\u001b[0m\u001b[0my\u001b[0m\u001b[1;33m)\u001b[0m \u001b[1;33m+\u001b[0m \u001b[1;33m(\u001b[0m\u001b[1;33m(\u001b[0m\u001b[0my\u001b[0m\u001b[1;33m**\u001b[0m\u001b[1;36m3\u001b[0m\u001b[1;33m)\u001b[0m\u001b[1;33m*\u001b[0m\u001b[1;33m(\u001b[0m\u001b[0mjnp\u001b[0m\u001b[1;33m.\u001b[0m\u001b[0msin\u001b[0m\u001b[1;33m(\u001b[0m\u001b[0mx\u001b[0m\u001b[1;33m)\u001b[0m\u001b[1;33m)\u001b[0m\u001b[1;33m)\u001b[0m\u001b[1;33m\u001b[0m\u001b[1;33m\u001b[0m\u001b[0m\n",
      "\u001b[1;32mc:\\users\\eesha\\appdata\\local\\programs\\python\\python37\\lib\\site-packages\\jax\\__init__.py\u001b[0m in \u001b[0;36m<module>\u001b[1;34m\u001b[0m\n\u001b[0;32m     33\u001b[0m \u001b[1;31m# We want the exported object to be the class, so we first import the module\u001b[0m\u001b[1;33m\u001b[0m\u001b[1;33m\u001b[0m\u001b[1;33m\u001b[0m\u001b[0m\n\u001b[0;32m     34\u001b[0m \u001b[1;31m# to make sure a later import doesn't overwrite the class.\u001b[0m\u001b[1;33m\u001b[0m\u001b[1;33m\u001b[0m\u001b[1;33m\u001b[0m\u001b[0m\n\u001b[1;32m---> 35\u001b[1;33m \u001b[1;32mfrom\u001b[0m \u001b[0mjax\u001b[0m \u001b[1;32mimport\u001b[0m \u001b[0mconfig\u001b[0m \u001b[1;32mas\u001b[0m \u001b[0m_config_module\u001b[0m\u001b[1;33m\u001b[0m\u001b[1;33m\u001b[0m\u001b[0m\n\u001b[0m\u001b[0;32m     36\u001b[0m \u001b[1;32mdel\u001b[0m \u001b[0m_config_module\u001b[0m\u001b[1;33m\u001b[0m\u001b[1;33m\u001b[0m\u001b[0m\n\u001b[0;32m     37\u001b[0m \u001b[1;33m\u001b[0m\u001b[0m\n",
      "\u001b[1;32mc:\\users\\eesha\\appdata\\local\\programs\\python\\python37\\lib\\site-packages\\jax\\config.py\u001b[0m in \u001b[0;36m<module>\u001b[1;34m\u001b[0m\n\u001b[0;32m     15\u001b[0m \u001b[1;31m# TODO(phawkins): fix users of this alias and delete this file.\u001b[0m\u001b[1;33m\u001b[0m\u001b[1;33m\u001b[0m\u001b[1;33m\u001b[0m\u001b[0m\n\u001b[0;32m     16\u001b[0m \u001b[1;33m\u001b[0m\u001b[0m\n\u001b[1;32m---> 17\u001b[1;33m \u001b[1;32mfrom\u001b[0m \u001b[0mjax\u001b[0m\u001b[1;33m.\u001b[0m\u001b[0m_src\u001b[0m\u001b[1;33m.\u001b[0m\u001b[0mconfig\u001b[0m \u001b[1;32mimport\u001b[0m \u001b[0mconfig\u001b[0m  \u001b[1;31m# noqa: F401\u001b[0m\u001b[1;33m\u001b[0m\u001b[1;33m\u001b[0m\u001b[0m\n\u001b[0m",
      "\u001b[1;32mc:\\users\\eesha\\appdata\\local\\programs\\python\\python37\\lib\\site-packages\\jax\\_src\\config.py\u001b[0m in \u001b[0;36m<module>\u001b[1;34m\u001b[0m\n\u001b[0;32m     25\u001b[0m \u001b[1;32mfrom\u001b[0m \u001b[0mtyping\u001b[0m \u001b[1;32mimport\u001b[0m \u001b[0mAny\u001b[0m\u001b[1;33m,\u001b[0m \u001b[0mList\u001b[0m\u001b[1;33m,\u001b[0m \u001b[0mCallable\u001b[0m\u001b[1;33m,\u001b[0m \u001b[0mHashable\u001b[0m\u001b[1;33m,\u001b[0m \u001b[0mNamedTuple\u001b[0m\u001b[1;33m,\u001b[0m \u001b[0mIterator\u001b[0m\u001b[1;33m,\u001b[0m \u001b[0mOptional\u001b[0m\u001b[1;33m\u001b[0m\u001b[1;33m\u001b[0m\u001b[0m\n\u001b[0;32m     26\u001b[0m \u001b[1;33m\u001b[0m\u001b[0m\n\u001b[1;32m---> 27\u001b[1;33m \u001b[1;32mfrom\u001b[0m \u001b[0mjax\u001b[0m\u001b[1;33m.\u001b[0m\u001b[0m_src\u001b[0m \u001b[1;32mimport\u001b[0m \u001b[0mlib\u001b[0m\u001b[1;33m\u001b[0m\u001b[1;33m\u001b[0m\u001b[0m\n\u001b[0m\u001b[0;32m     28\u001b[0m \u001b[1;32mfrom\u001b[0m \u001b[0mjax\u001b[0m\u001b[1;33m.\u001b[0m\u001b[0m_src\u001b[0m\u001b[1;33m.\u001b[0m\u001b[0mlib\u001b[0m \u001b[1;32mimport\u001b[0m \u001b[0mjax_jit\u001b[0m\u001b[1;33m\u001b[0m\u001b[1;33m\u001b[0m\u001b[0m\n\u001b[0;32m     29\u001b[0m \u001b[1;32mfrom\u001b[0m \u001b[0mjax\u001b[0m\u001b[1;33m.\u001b[0m\u001b[0m_src\u001b[0m\u001b[1;33m.\u001b[0m\u001b[0mlib\u001b[0m \u001b[1;32mimport\u001b[0m \u001b[0mtransfer_guard_lib\u001b[0m\u001b[1;33m\u001b[0m\u001b[1;33m\u001b[0m\u001b[0m\n",
      "\u001b[1;32mc:\\users\\eesha\\appdata\\local\\programs\\python\\python37\\lib\\site-packages\\jax\\_src\\lib\\__init__.py\u001b[0m in \u001b[0;36m<module>\u001b[1;34m\u001b[0m\n\u001b[0;32m     28\u001b[0m     \u001b[1;34m'jax requires jaxlib to be installed. See '\u001b[0m\u001b[1;33m\u001b[0m\u001b[1;33m\u001b[0m\u001b[0m\n\u001b[0;32m     29\u001b[0m     \u001b[1;34m'https://github.com/google/jax#installation for installation instructions.'\u001b[0m\u001b[1;33m\u001b[0m\u001b[1;33m\u001b[0m\u001b[0m\n\u001b[1;32m---> 30\u001b[1;33m     ) from err\n\u001b[0m\u001b[0;32m     31\u001b[0m \u001b[1;33m\u001b[0m\u001b[0m\n\u001b[0;32m     32\u001b[0m \u001b[1;32mimport\u001b[0m \u001b[0mjax\u001b[0m\u001b[1;33m.\u001b[0m\u001b[0mversion\u001b[0m\u001b[1;33m\u001b[0m\u001b[1;33m\u001b[0m\u001b[0m\n",
      "\u001b[1;31mModuleNotFoundError\u001b[0m: jax requires jaxlib to be installed. See https://github.com/google/jax#installation for installation instructions."
     ]
    }
   ],
   "source": [
    "import jax.numpy as jnp\n",
    "from jax import grad\n",
    "\n",
    "def func(x,y):\n",
    "    return ((x**2)*y) + ((y**3)*(jnp.sin(x)))\n",
    "\n",
    "gradient = grad(func)(2.0,3.0)\n",
    "print(gradient)\n",
    "\n",
    "# code not running in jupyter(requires the jaxlib package, which wasn't working in my case), works in google colab"
   ]
  },
  {
   "cell_type": "markdown",
   "id": "b82eb46c",
   "metadata": {},
   "source": [
    "# Q6"
   ]
  },
  {
   "cell_type": "code",
   "execution_count": 31,
   "id": "d34812e2",
   "metadata": {},
   "outputs": [
    {
     "name": "stdout",
     "output_type": "stream",
     "text": [
      "Matrix([[2*x*y + y**3*cos(x), x**2 + 3*y**2*sin(x)]])\n"
     ]
    }
   ],
   "source": [
    "from sympy import *\n",
    "\n",
    "x,y = symbols('x,y')\n",
    "\n",
    "f = ((x**2)*y) + ((y**3)*(sympy.sin(x)))\n",
    "\n",
    "grad = sympy.Matrix([f]).jacobian([x,y])\n",
    "print(grad)"
   ]
  },
  {
   "cell_type": "markdown",
   "id": "b8e601c0",
   "metadata": {},
   "source": [
    "# Q7"
   ]
  },
  {
   "cell_type": "code",
   "execution_count": 55,
   "id": "6f0c5181",
   "metadata": {},
   "outputs": [
    {
     "name": "stdout",
     "output_type": "stream",
     "text": [
      "({'2022': {'Branch 1': {'Roll Number': '1', 'Name': 'N', 'Marks': {'Maths': '100', 'English': '70'}}}, 'Branch 2': {}}, {'2023': {'Branch 1': {}}, 'Branch 2': {}}, {'2024': {'Branch 1': {}}, 'Branch 2': {}}, {'2025': {'Branch 1': {}}, 'Branch 2': {}})\n"
     ]
    }
   ],
   "source": [
    "Hierarchy = { '2022': \n",
    "             {'Branch 1' : {\n",
    "                 'Roll Number': '1', 'Name':'N', 'Marks':{\n",
    "                     'Maths':'100','English':'70'}}},\n",
    "              'Branch 2': { }}, { \n",
    "              '2023': {\n",
    "                'Branch 1' : {}},\n",
    "                'Branch 2': { }}, { \n",
    "              '2024': {\n",
    "                'Branch 1' : {}},\n",
    "                'Branch 2': { }}, { \n",
    "              '2025': {\n",
    "                'Branch 1' : {}},\n",
    "                'Branch 2': { }}\n",
    "print(Hierarchy)"
   ]
  },
  {
   "cell_type": "markdown",
   "id": "274745da",
   "metadata": {},
   "source": [
    "# Q8"
   ]
  },
  {
   "cell_type": "code",
   "execution_count": 81,
   "id": "12d490af",
   "metadata": {},
   "outputs": [],
   "source": [
    "class Year:\n",
    "  def __init__(self, year, branches):\n",
    "    self.year=year\n",
    "    self.branches=branches\n",
    "\n",
    "class Branch:\n",
    "  def __init__(self, branch, students):\n",
    "    self.branch=branch\n",
    "    self.students=students\n",
    "\n",
    "class Details:\n",
    "  def __init__(self, roll_no, name, marks):\n",
    "    self.roll_no=roll_no\n",
    "    self.name=name\n",
    "    self.marks=marks\n",
    "    \n",
    "hierarchy = [\n",
    "    Year(2022,[\n",
    "        Branch('Branch 1',[\n",
    "            Details(1, 'N', {'Maths': 100, 'English': 70})\n",
    "        ]),\n",
    "        Branch('Branch 2',[\n",
    "            Details(2, 'M', {'Maths': 100, 'English': 90})\n",
    "        ])\n",
    "    ]),\n",
    "    Year(2023,[\n",
    "        Branch('Branch 1',[\n",
    "            Details(1, 'A', {'Maths': 90, 'English': 70})\n",
    "        ]),\n",
    "        Branch('Branch 2',[\n",
    "            Details(2, 'B', {'Maths': 80, 'English': 85})\n",
    "        ])\n",
    "    ]),\n",
    "    Year(2024,[\n",
    "        Branch('Branch 1',[\n",
    "            Details(1, 'R', {'Maths': 95, 'English': 70})\n",
    "        ]),\n",
    "        Branch('Branch 2',[\n",
    "            Details(2, 'S', {'Maths': 85, 'English': 60})\n",
    "        ])\n",
    "    ]),\n",
    "    Year(2025,[\n",
    "        Branch('Branch 1',[\n",
    "            Details(1, 'X', {'Maths': 70, 'English': 65})\n",
    "        ]),\n",
    "        Branch('Branch 2',[\n",
    "            Details(1, 'Y', {'Maths': 65, 'English': 50})\n",
    "        ])\n",
    "    ])\n",
    "]\n"
   ]
  },
  {
   "cell_type": "markdown",
   "id": "09696698",
   "metadata": {},
   "source": [
    "# Q9"
   ]
  },
  {
   "cell_type": "code",
   "execution_count": 9,
   "id": "d802da9c",
   "metadata": {},
   "outputs": [
    {
     "data": {
      "image/png": "[encoded data removed]",
      "text/plain": [
       "<Figure size 432x288 with 1 Axes>"
      ]
     },
     "metadata": {
      "needs_background": "light"
     },
     "output_type": "display_data"
    }
   ],
   "source": [
    "import matplotlib.pyplot as plt\n",
    "import numpy as np\n",
    "\n",
    "x = np.linspace(0.5,100,199)\n",
    "y = x\n",
    "\n",
    "plt.plot(x,y,'b')\n",
    "plt.show()\n"
   ]
  },
  {
   "cell_type": "code",
   "execution_count": 10,
   "id": "252505e8",
   "metadata": {},
   "outputs": [
    {
     "data": {
      "image/png": "[encoded data removed]",
      "text/plain": [
       "<Figure size 432x288 with 1 Axes>"
      ]
     },
     "metadata": {
      "needs_background": "light"
     },
     "output_type": "display_data"
    }
   ],
   "source": [
    "import matplotlib.pyplot as plt\n",
    "import numpy as np\n",
    "\n",
    "x = np.linspace(0.5,100,199)\n",
    "y = x**2\n",
    "\n",
    "plt.plot(x,y,'b')\n",
    "plt.show()"
   ]
  },
  {
   "cell_type": "code",
   "execution_count": 11,
   "id": "37755ea2",
   "metadata": {},
   "outputs": [
    {
     "data": {
      "image/png": "[encoded data removed]",
      "text/plain": [
       "<Figure size 432x288 with 1 Axes>"
      ]
     },
     "metadata": {
      "needs_background": "light"
     },
     "output_type": "display_data"
    }
   ],
   "source": [
    "import matplotlib.pyplot as plt\n",
    "import numpy as np\n",
    "\n",
    "x = np.linspace(0.5,100,199)\n",
    "y = (x**3)/100\n",
    "\n",
    "plt.plot(x,y,'b')\n",
    "plt.show()"
   ]
  },
  {
   "cell_type": "code",
   "execution_count": 13,
   "id": "998b0841",
   "metadata": {},
   "outputs": [
    {
     "data": {
      "image/png": "[encoded data removed]",
      "text/plain": [
       "<Figure size 432x288 with 1 Axes>"
      ]
     },
     "metadata": {
      "needs_background": "light"
     },
     "output_type": "display_data"
    }
   ],
   "source": [
    "import matplotlib.pyplot as plt\n",
    "import numpy as np\n",
    "\n",
    "x = np.linspace(0.5,100,199)\n",
    "y = np.sin(x)\n",
    "\n",
    "plt.plot(x,y,'b')\n",
    "plt.show()"
   ]
  },
  {
   "cell_type": "code",
   "execution_count": 14,
   "id": "b21256c3",
   "metadata": {},
   "outputs": [
    {
     "data": {
      "image/png": "[encoded data removed]",
      "text/plain": [
       "<Figure size 432x288 with 1 Axes>"
      ]
     },
     "metadata": {
      "needs_background": "light"
     },
     "output_type": "display_data"
    }
   ],
   "source": [
    "import matplotlib.pyplot as plt\n",
    "import numpy as np\n",
    "\n",
    "x = np.linspace(0.5,100,199)\n",
    "y = np.log(x)\n",
    "\n",
    "plt.plot(x,y,'b')\n",
    "plt.show()"
   ]
  },
  {
   "cell_type": "code",
   "execution_count": 15,
   "id": "be216f72",
   "metadata": {},
   "outputs": [
    {
     "data": {
      "image/png": "[encoded data removed]",
      "text/plain": [
       "<Figure size 432x288 with 1 Axes>"
      ]
     },
     "metadata": {
      "needs_background": "light"
     },
     "output_type": "display_data"
    }
   ],
   "source": [
    "import matplotlib.pyplot as plt\n",
    "import numpy as np\n",
    "\n",
    "x = np.linspace(0.5,100,199)\n",
    "y = np.exp(x)\n",
    "\n",
    "plt.plot(x,y,'b')\n",
    "plt.show()"
   ]
  },
  {
   "cell_type": "markdown",
   "id": "e00189e6",
   "metadata": {},
   "source": [
    "# Q10"
   ]
  },
  {
   "cell_type": "code",
   "execution_count": 75,
   "id": "fc9ef7fd",
   "metadata": {},
   "outputs": [
    {
     "name": "stdout",
     "output_type": "stream",
     "text": [
      "Column showing max std deviation is: d\n",
      "Row with the lowest mean is: 4\n",
      "    a  b  c  d  e\n",
      "0   2  1  2  1  2\n",
      "1   2  2  2  2  2\n",
      "2   2  1  1  1  1\n",
      "3   1  1  2  1  1\n",
      "4   1  1  1  1  1\n",
      "5   2  1  2  2  1\n",
      "6   1  1  1  1  2\n",
      "7   2  2  2  2  1\n",
      "8   2  1  2  2  2\n",
      "9   1  1  2  1  2\n",
      "10  2  1  2  2  2\n",
      "11  1  1  2  2  1\n",
      "12  1  2  1  1  2\n",
      "13  2  2  1  2  1\n",
      "14  2  1  1  1  2\n",
      "15  2  1  2  2  1\n",
      "16  2  1  1  2  1\n",
      "17  1  2  1  1  1\n",
      "18  2  1  2  2  1\n",
      "19  2  1  2  2  1\n"
     ]
    }
   ],
   "source": [
    "import numpy as np\n",
    "import pandas as pd\n",
    "\n",
    "matrix = np.random.randint(low=1, high=3, size=(20, 5))\n",
    "\n",
    "column_title = ['a', 'b', 'c', 'd', 'e']\n",
    "df = pd.DataFrame(data = matrix,\n",
    "                 columns = column_title)\n",
    "\n",
    "std_dev = df.std(axis = 0)\n",
    "#print(std_dev)\n",
    "max_std_dev = std_dev.idxmax()\n",
    "print(\"Column showing max std deviation is:\",max_std_dev)\n",
    "\n",
    "mean = df.mean(axis=1)\n",
    "#print(mean)\n",
    "lowest_mean = mean.idxmin()\n",
    "print(\"Row with the lowest mean is:\",lowest_mean)\n",
    "\n",
    "print(df)"
   ]
  },
  {
   "cell_type": "markdown",
   "id": "a3c4f854",
   "metadata": {},
   "source": [
    "# Q11"
   ]
  },
  {
   "cell_type": "code",
   "execution_count": 76,
   "id": "a6cf4709",
   "metadata": {},
   "outputs": [
    {
     "name": "stdout",
     "output_type": "stream",
     "text": [
      "No. of rows with g column having LT8 is: 11\n",
      "Std dev of col f such that g col shows LT8: 0.5222329678670935\n",
      "Std dev of col f such that g col shows GT8: 0.7264831572567788\n",
      "    a  b  c  d  e   f    g\n",
      "0   2  2  1  2  1   8  GT8\n",
      "1   2  2  1  2  2   9  GT8\n",
      "2   1  1  2  1  2   7  LT8\n",
      "3   1  2  1  1  1   6  LT8\n",
      "4   1  1  2  1  1   6  LT8\n",
      "5   2  1  2  2  1   8  GT8\n",
      "6   1  1  1  1  2   6  LT8\n",
      "7   2  1  2  2  1   8  GT8\n",
      "8   1  1  2  2  2   8  GT8\n",
      "9   1  1  2  1  2   7  LT8\n",
      "10  1  1  2  1  1   6  LT8\n",
      "11  2  2  2  1  1   8  GT8\n",
      "12  2  2  1  2  2   9  GT8\n",
      "13  1  2  1  1  1   6  LT8\n",
      "14  2  2  2  1  2   9  GT8\n",
      "15  1  1  2  1  2   7  LT8\n",
      "16  2  1  2  1  1   7  LT8\n",
      "17  1  1  1  1  2   6  LT8\n",
      "18  1  1  2  2  1   7  LT8\n",
      "19  2  2  2  2  2  10  GT8\n"
     ]
    }
   ],
   "source": [
    "import numpy as np\n",
    "import pandas as pd\n",
    "\n",
    "matrix = np.random.randint(low=1, high=3, size=(20, 5))\n",
    "\n",
    "column_title = ['a', 'b', 'c', 'd', 'e']\n",
    "df = pd.DataFrame(data = matrix,\n",
    "                 columns = column_title)\n",
    "\n",
    "std_dev = df.std(axis = 0)\n",
    "#print(std_dev)\n",
    "max_std_dev = std_dev.idxmax()\n",
    "#print(\"Column showing max std deviation is:\",max_std_dev)\n",
    "\n",
    "mean = df.mean(axis=1)\n",
    "#print(mean)\n",
    "lowest_mean = mean.idxmin()\n",
    "#print(\"Row with the lowest mean is:\",lowest_mean)\n",
    "\n",
    "df['f']=df['a'] + df['b'] + df['c'] + df['d'] + df['e'] \n",
    "\n",
    "df['g'] = df['f'].apply(lambda i: 'LT8' if i<8 else 'GT8')\n",
    "\n",
    "freq = df.query(\"g=='LT8'\").shape[0]\n",
    "print(\"No. of rows with g column having LT8 is:\",freq)\n",
    "\n",
    "std_dev_lt8 = df.query(\"g == 'LT8'\")['f'].std()\n",
    "print(\"Std dev of col f such that g col shows LT8:\",std_dev_lt8)\n",
    "\n",
    "std_dev_gt8 = df.query(\"g == 'GT8'\")['f'].std()\n",
    "print(\"Std dev of col f such that g col shows GT8:\",std_dev_gt8)\n",
    "\n",
    "print(df)"
   ]
  },
  {
   "cell_type": "markdown",
   "id": "e92154de",
   "metadata": {},
   "source": [
    "# Q12"
   ]
  },
  {
   "cell_type": "markdown",
   "id": "721af6b4",
   "metadata": {},
   "source": [
    "Broadcasting in numpy is mainly used for making arrays' shapes compatible.\n",
    "It works in a way that the smaller array is broadcast such that it matches the shape of the larger one for necessary operations.\n",
    "Just like we perform matrix addition on an element-element basis, where we require the matrics to have the same shape, numpy also requires the arrays to have same shapes to perform the operations - which is why broadcasting is useful.\n",
    "\n",
    "As we will see in the example, it can be used to multiply a scalar quantity to an array, by simply broadcasting the scalar quantity across the larger array. "
   ]
  },
  {
   "cell_type": "code",
   "execution_count": 83,
   "id": "d439a901",
   "metadata": {},
   "outputs": [
    {
     "name": "stdout",
     "output_type": "stream",
     "text": [
      "[ 4  8 12]\n"
     ]
    }
   ],
   "source": [
    "arr = np.array([1,2,3])\n",
    "scalar = 4\n",
    "c = arr * scalar\n",
    "\n",
    "print(c)"
   ]
  },
  {
   "cell_type": "markdown",
   "id": "e9162d27",
   "metadata": {},
   "source": [
    "# Q13"
   ]
  },
  {
   "cell_type": "code",
   "execution_count": 84,
   "id": "d1c104f5",
   "metadata": {},
   "outputs": [
    {
     "name": "stdout",
     "output_type": "stream",
     "text": [
      "5\n",
      "5\n"
     ]
    }
   ],
   "source": [
    "# Argmin fuction\n",
    "\n",
    "def calculate_argmin(M):\n",
    "    M = np.array(M)\n",
    "    M1 = M.flatten()\n",
    "    l = len(M1)\n",
    "    smallest = M1[0]\n",
    "    a = 0\n",
    "    for i in range(l):\n",
    "        if smallest > M1[i]:\n",
    "            smallest = M1[i]\n",
    "            a = i   \n",
    "    return a\n",
    "\n",
    "M = [[5,7], \n",
    "     [6,8],\n",
    "     [9,4]]\n",
    "print(calculate_argmin(M))\n",
    "\n",
    "# Verifying the solution\n",
    "\n",
    "small = np.argmin(M)\n",
    "print(small)"
   ]
  }
 ],
 "metadata": {
  "kernelspec": {
   "display_name": "Python 3 (ipykernel)",
   "language": "python",
   "name": "python3"
  },
  "language_info": {
   "codemirror_mode": {
    "name": "ipython",
    "version": 3
   },
   "file_extension": ".py",
   "mimetype": "text/x-python",
   "name": "python",
   "nbconvert_exporter": "python",
   "pygments_lexer": "ipython3",
   "version": "3.7.5"
  }
 },
 "nbformat": 4,
 "nbformat_minor": 5
}
